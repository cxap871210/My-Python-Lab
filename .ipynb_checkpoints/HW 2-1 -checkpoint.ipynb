{
 "cells": [
  {
   "cell_type": "code",
   "execution_count": 1,
   "metadata": {},
   "outputs": [
    {
     "name": "stdout",
     "output_type": "stream",
     "text": [
      "24.221453287197228\n",
      "過重\n"
     ]
    }
   ],
   "source": [
    "%matplotlib inline\n",
    "\n",
    "import numpy as np\n",
    "import matplotlib.pyplot as plt\n",
    "import pandas as pd\n",
    "def BMI(weight,height):\n",
    "    bmi = (weight/(height**2))\n",
    "    print(bmi)\n",
    "    if(bmi < 18.5):\n",
    "        print(\"體重過輕\")\n",
    "    elif(18.5 <= bmi < 24):\n",
    "        print(\"體重適中\")\n",
    "    elif(24 <= bmi <27):\n",
    "        print(\"過重\")\n",
    "    elif(27 <= bmi < 30):\n",
    "        print(\"輕度肥胖\")\n",
    "    elif(30 <= bmi < 35):\n",
    "        print(\"中度肥胖\")\n",
    "    else:\n",
    "        print(\"重度肥胖\")\n",
    "        \n",
    "        \n",
    "from ipywidgets import interact\n",
    "interact(BMI,weight = (40.,100.,0.01),height = (1.3,2.1,0.01));"
   ]
  },
  {
   "cell_type": "code",
   "execution_count": null,
   "metadata": {},
   "outputs": [],
   "source": []
  }
 ],
 "metadata": {
  "kernelspec": {
   "display_name": "Python 3",
   "language": "python",
   "name": "python3"
  },
  "language_info": {
   "codemirror_mode": {
    "name": "ipython",
    "version": 3
   },
   "file_extension": ".py",
   "mimetype": "text/x-python",
   "name": "python",
   "nbconvert_exporter": "python",
   "pygments_lexer": "ipython3",
   "version": "3.6.5"
  }
 },
 "nbformat": 4,
 "nbformat_minor": 2
}
