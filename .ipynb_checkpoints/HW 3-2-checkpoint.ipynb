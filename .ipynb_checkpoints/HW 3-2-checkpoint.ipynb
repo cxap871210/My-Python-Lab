{
 "cells": [
  {
   "cell_type": "code",
   "execution_count": 1,
   "metadata": {},
   "outputs": [],
   "source": [
    "import numpy as np"
   ]
  },
  {
   "cell_type": "code",
   "execution_count": 2,
   "metadata": {},
   "outputs": [],
   "source": [
    "A = np.random.randint(20,100,40)"
   ]
  },
  {
   "cell_type": "code",
   "execution_count": 3,
   "metadata": {},
   "outputs": [
    {
     "data": {
      "text/plain": [
       "array([[20, 44, 92, 60, 35],\n",
       "       [56, 27, 81, 77, 73],\n",
       "       [49, 78, 55, 40, 34],\n",
       "       [94, 31, 62, 69, 23],\n",
       "       [84, 89, 77, 88, 36],\n",
       "       [46, 42, 86, 23, 67],\n",
       "       [39, 53, 57, 39, 58],\n",
       "       [95, 74, 93, 58, 50]])"
      ]
     },
     "execution_count": 3,
     "metadata": {},
     "output_type": "execute_result"
    }
   ],
   "source": [
    "A.reshape(8,5)"
   ]
  },
  {
   "cell_type": "code",
   "execution_count": 4,
   "metadata": {},
   "outputs": [
    {
     "name": "stdout",
     "output_type": "stream",
     "text": [
      "調分\n",
      "[ 50.          66.          98.          76.66666667  60.\n",
      "  74.          54.66666667  90.66666667  88.          85.33333333\n",
      "  69.33333333  88.66666667  73.33333333  63.33333333  59.33333333\n",
      "  99.33333333  57.33333333  78.          82.66666667  52.\n",
      "  92.66666667  96.          88.          95.33333333  60.66666667\n",
      "  67.33333333  64.66666667  94.          52.          81.33333333\n",
      "  62.66666667  72.          74.66666667  62.66666667  75.33333333\n",
      " 100.          86.          98.66666667  75.33333333  70.        ]\n"
     ]
    }
   ],
   "source": [
    "if (len(A[A < 60]) > 20):\n",
    "    a = np.array([[max(A),1],\n",
    "                  [min(A),1]])\n",
    "    b = np.array([[100],\n",
    "                  [50]])\n",
    "    answer = np.linalg.solve(a, b)\n",
    "    A = A * answer[0,0] + answer[1,0]\n",
    "    \n",
    "    print(\"調分\")\n",
    "    print(A)\n",
    "else:\n",
    "    print(\"不調分\")"
   ]
  },
  {
   "cell_type": "code",
   "execution_count": null,
   "metadata": {},
   "outputs": [],
   "source": []
  },
  {
   "cell_type": "code",
   "execution_count": null,
   "metadata": {},
   "outputs": [],
   "source": []
  },
  {
   "cell_type": "code",
   "execution_count": null,
   "metadata": {},
   "outputs": [],
   "source": []
  }
 ],
 "metadata": {
  "kernelspec": {
   "display_name": "Python 3",
   "language": "python",
   "name": "python3"
  },
  "language_info": {
   "codemirror_mode": {
    "name": "ipython",
    "version": 3
   },
   "file_extension": ".py",
   "mimetype": "text/x-python",
   "name": "python",
   "nbconvert_exporter": "python",
   "pygments_lexer": "ipython3",
   "version": "3.6.8"
  }
 },
 "nbformat": 4,
 "nbformat_minor": 2
}
