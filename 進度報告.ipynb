{
 "cells": [
  {
   "cell_type": "markdown",
   "metadata": {},
   "source": [
    "## 題目：OpenAI Gym 遊戲實作"
   ]
  },
  {
   "cell_type": "markdown",
   "metadata": {},
   "source": [
    "組員：邱廷翔、蕭昀豪、陳柄瑞"
   ]
  },
  {
   "cell_type": "markdown",
   "metadata": {},
   "source": [
    "# 介紹:"
   ]
  },
  {
   "cell_type": "markdown",
   "metadata": {},
   "source": [
    "本次專案想要實做的遊戲為 OpenAI Gym 中的 BipedalWalker(https://gym.openai.com/envs/BipedalWalker-v2/)  \n",
    "遊戲方式為依據環境中各項observation做出相對應的action，使得機器人能走越遠越好。其中環境中的observation與可做出的action如網址中所示(https://github.com/openai/gym/wiki/BipedalWalker-v2)"
   ]
  },
  {
   "cell_type": "markdown",
   "metadata": {},
   "source": [
    "# 目標："
   ]
  },
  {
   "cell_type": "markdown",
   "metadata": {},
   "source": [
    "訓練一個神經網路，將BipedalWalker破關。"
   ]
  },
  {
   "cell_type": "markdown",
   "metadata": {},
   "source": [
    "# 排程："
   ]
  },
  {
   "cell_type": "markdown",
   "metadata": {},
   "source": [
    "5/14:確定往OpenAI Gym方向進行專案  \n",
    "5/18:成功訓練出神經網路將OpenAI Gym中較簡單的遊戲破關。  \n",
    "5/23:開始嘗試訓練神經網路進行BipedalWalker遊戲。  \n",
    "5/28:預計將進行BipedalWalker遊戲的神經網路訓練出來。  \n",
    "6/7以前:改善訓練出的神經網路，例如使用Reinforcement Learning、Deep Q-Learning等方法。  "
   ]
  },
  {
   "cell_type": "markdown",
   "metadata": {},
   "source": [
    "# 實作方法、目前進度："
   ]
  },
  {
   "cell_type": "markdown",
   "metadata": {},
   "source": [
    "在OpenAI Gym中有個最簡單的遊戲CartPole。此遊戲的action較簡單只有兩種，已先用隨機選取action的方式進行遊戲，\n",
    "若分數超過某定值則將當時環境中的observation、當下做出的action記下。重複多次後將這些資料當作訓練資料訓練一個神經網路。\n",
    "最後進行遊戲時，把環境中的observation當作輸入，用訓練出的神經網路預測action進行遊戲。已成功將此遊戲破關。(根據OpenAI Gym中的破關定義)\n",
    "\n",
    "目前正致力於用類似的方法完成 BipedalWalker 遊戲。如果可行，甚至打算用Reinforcement Learning、Deep Q-Learning等方法改善神經網路。"
   ]
  }
 ],
 "metadata": {
  "kernelspec": {
   "display_name": "Python 3",
   "language": "python",
   "name": "python3"
  },
  "language_info": {
   "codemirror_mode": {
    "name": "ipython",
    "version": 3
   },
   "file_extension": ".py",
   "mimetype": "text/x-python",
   "name": "python",
   "nbconvert_exporter": "python",
   "pygments_lexer": "ipython3",
   "version": "3.6.8"
  }
 },
 "nbformat": 4,
 "nbformat_minor": 2
}
